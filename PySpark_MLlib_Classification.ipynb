{
  "nbformat": 4,
  "nbformat_minor": 0,
  "metadata": {
    "colab": {
      "provenance": []
    },
    "kernelspec": {
      "name": "python3",
      "display_name": "Python 3"
    },
    "language_info": {
      "name": "python"
    }
  },
  "cells": [
    {
      "cell_type": "code",
      "source": [
        "!pip install pyspark"
      ],
      "metadata": {
        "colab": {
          "base_uri": "https://localhost:8080/"
        },
        "id": "mai3kjVTfR38",
        "outputId": "ab8cc2fa-8e6e-41f5-9373-bf47a22d710f"
      },
      "execution_count": null,
      "outputs": [
        {
          "output_type": "stream",
          "name": "stdout",
          "text": [
            "Looking in indexes: https://pypi.org/simple, https://us-python.pkg.dev/colab-wheels/public/simple/\n",
            "Collecting pyspark\n",
            "  Downloading pyspark-3.3.1.tar.gz (281.4 MB)\n",
            "\u001b[2K     \u001b[90m━━━━━━━━━━━━━━━━━━━━━━━━━━━━━━━━━━━━━━━\u001b[0m \u001b[32m281.4/281.4 MB\u001b[0m \u001b[31m4.0 MB/s\u001b[0m eta \u001b[36m0:00:00\u001b[0m\n",
            "\u001b[?25h  Preparing metadata (setup.py) ... \u001b[?25l\u001b[?25hdone\n",
            "Collecting py4j==0.10.9.5\n",
            "  Downloading py4j-0.10.9.5-py2.py3-none-any.whl (199 kB)\n",
            "\u001b[2K     \u001b[90m━━━━━━━━━━━━━━━━━━━━━━━━━━━━━━━━━━━━━━\u001b[0m \u001b[32m199.7/199.7 KB\u001b[0m \u001b[31m10.5 MB/s\u001b[0m eta \u001b[36m0:00:00\u001b[0m\n",
            "\u001b[?25hBuilding wheels for collected packages: pyspark\n",
            "  Building wheel for pyspark (setup.py) ... \u001b[?25l\u001b[?25hdone\n",
            "  Created wheel for pyspark: filename=pyspark-3.3.1-py2.py3-none-any.whl size=281845512 sha256=00ee13431fca8f0a2d4b4cb72f67d1bc6cbac0e063838d6eee13f2f505158792\n",
            "  Stored in directory: /root/.cache/pip/wheels/43/dc/11/ec201cd671da62fa9c5cc77078235e40722170ceba231d7598\n",
            "Successfully built pyspark\n",
            "Installing collected packages: py4j, pyspark\n",
            "Successfully installed py4j-0.10.9.5 pyspark-3.3.1\n"
          ]
        }
      ]
    },
    {
      "cell_type": "code",
      "execution_count": null,
      "metadata": {
        "id": "STJaBNUParHg"
      },
      "outputs": [],
      "source": [
        "# Import SparkSession\n",
        "from pyspark.sql import SparkSession\n",
        "\n",
        "# Create SparkSession\n",
        "spark = SparkSession.builder.master(\"local[1]\").appName(\"SparkByExample.com\").getOrCreate()"
      ]
    },
    {
      "cell_type": "markdown",
      "source": [
        "- Using parallelize"
      ],
      "metadata": {
        "id": "VdllWB9qfycg"
      }
    },
    {
      "cell_type": "code",
      "source": [
        "# Create RDD from parallelize\n",
        "datalist = [(\"Java\",20000),(\"Python\",100000),(\"Scala\",3000)]\n",
        "rdd = spark.sparkContext.parallelize(datalist)"
      ],
      "metadata": {
        "id": "ooxMTc6Rfu4b"
      },
      "execution_count": null,
      "outputs": []
    },
    {
      "cell_type": "markdown",
      "source": [
        "- Using textFile"
      ],
      "metadata": {
        "id": "NT92ZrbrgiZ2"
      }
    },
    {
      "cell_type": "code",
      "source": [
        "rdd2 = spark.sparkContext.textFile(\"F:\\a.txt\")"
      ],
      "metadata": {
        "id": "G_TeYo6VgJMt"
      },
      "execution_count": null,
      "outputs": []
    },
    {
      "cell_type": "markdown",
      "source": [
        "**- Creating Spark DataFrame**"
      ],
      "metadata": {
        "id": "z1C9PlUYiIgO"
      }
    },
    {
      "cell_type": "code",
      "source": [
        "data = [('James','','Smith','1991-04-01','M',3000),\n",
        "  ('Michael','Rose','','2000-05-19','M',4000),\n",
        "  ('Robert','','Williams','1978-09-05','M',4000),\n",
        "  ('Maria','Anne','Jones','1967-12-01','F',4000),\n",
        "  ('Jen','Mary','Brown','1980-02-17','F',-1)\n",
        "]\n",
        "\n",
        "columns = [\"firstname\",\"middlename\",\"lastname\",\"dob\",\"gender\",\"salary\"]\n",
        "\n",
        "df = spark.createDataFrame(data=data,schema=columns)"
      ],
      "metadata": {
        "id": "vl9PNu-Tg0ui"
      },
      "execution_count": null,
      "outputs": []
    },
    {
      "cell_type": "code",
      "source": [
        "df.show()"
      ],
      "metadata": {
        "colab": {
          "base_uri": "https://localhost:8080/"
        },
        "id": "i3iJux1UiHNV",
        "outputId": "e3ebfb5c-066e-42cb-891a-b39eb8e8f4c5"
      },
      "execution_count": null,
      "outputs": [
        {
          "output_type": "stream",
          "name": "stdout",
          "text": [
            "+---------+----------+--------+----------+------+------+\n",
            "|firstname|middlename|lastname|       dob|gender|salary|\n",
            "+---------+----------+--------+----------+------+------+\n",
            "|    James|          |   Smith|1991-04-01|     M|  3000|\n",
            "|  Michael|      Rose|        |2000-05-19|     M|  4000|\n",
            "|   Robert|          |Williams|1978-09-05|     M|  4000|\n",
            "|    Maria|      Anne|   Jones|1967-12-01|     F|  4000|\n",
            "|      Jen|      Mary|   Brown|1980-02-17|     F|    -1|\n",
            "+---------+----------+--------+----------+------+------+\n",
            "\n"
          ]
        }
      ]
    },
    {
      "cell_type": "code",
      "source": [
        "df = spark.read.csv(\"/content/employees.csv\",header=True)\n",
        "df.printSchema()"
      ],
      "metadata": {
        "colab": {
          "base_uri": "https://localhost:8080/"
        },
        "id": "gGVTRVVUiPnx",
        "outputId": "76dba4d6-131d-4d7e-9402-016426ac4ab8"
      },
      "execution_count": null,
      "outputs": [
        {
          "output_type": "stream",
          "name": "stdout",
          "text": [
            "root\n",
            " |-- First Name: string (nullable = true)\n",
            " |-- Gender: string (nullable = true)\n",
            " |-- Start Date: string (nullable = true)\n",
            " |-- Last Login Time: string (nullable = true)\n",
            " |-- Salary: string (nullable = true)\n",
            " |-- Bonus %: string (nullable = true)\n",
            " |-- Senior Management: string (nullable = true)\n",
            " |-- Team: string (nullable = true)\n",
            "\n"
          ]
        }
      ]
    },
    {
      "cell_type": "markdown",
      "source": [
        "-  PySpark SQL"
      ],
      "metadata": {
        "id": "ZZmqFFJ1kXDv"
      }
    },
    {
      "cell_type": "code",
      "source": [
        "df.createOrReplaceTempView(\"EMPLOYEE_DATA\")\n",
        "df2 = spark.sql(\"SELECT * FROM EMPLOYEE_DATA\")\n",
        "df2.printSchema()\n",
        "df2.show()"
      ],
      "metadata": {
        "colab": {
          "base_uri": "https://localhost:8080/"
        },
        "id": "BEJrVn4iijWE",
        "outputId": "af9761e3-09f2-4a56-cf00-d926ae9ae5c6"
      },
      "execution_count": null,
      "outputs": [
        {
          "output_type": "stream",
          "name": "stdout",
          "text": [
            "root\n",
            " |-- First Name: string (nullable = true)\n",
            " |-- Gender: string (nullable = true)\n",
            " |-- Start Date: string (nullable = true)\n",
            " |-- Last Login Time: string (nullable = true)\n",
            " |-- Salary: string (nullable = true)\n",
            " |-- Bonus %: string (nullable = true)\n",
            " |-- Senior Management: string (nullable = true)\n",
            " |-- Team: string (nullable = true)\n",
            "\n",
            "+----------+------+----------+---------------+------+-------+-----------------+--------------------+\n",
            "|First Name|Gender|Start Date|Last Login Time|Salary|Bonus %|Senior Management|                Team|\n",
            "+----------+------+----------+---------------+------+-------+-----------------+--------------------+\n",
            "|   Douglas|  Male|  8/6/1993|       12:42 PM| 97308|  6.945|             true|           Marketing|\n",
            "|    Thomas|  Male| 3/31/1996|        6:53 AM| 61933|   4.17|             true|                null|\n",
            "|     Maria|Female| 4/23/1993|       11:17 AM|130590| 11.858|            false|             Finance|\n",
            "|     Jerry|  Male|  3/4/2005|        1:00 PM|138705|   9.34|             true|             Finance|\n",
            "|     Larry|  Male| 1/24/1998|        4:47 PM|101004|  1.389|             true|     Client Services|\n",
            "|    Dennis|  Male| 4/18/1987|        1:35 AM|115163| 10.125|            false|               Legal|\n",
            "|      Ruby|Female| 8/17/1987|        4:20 PM| 65476| 10.012|             true|             Product|\n",
            "|      null|Female| 7/20/2015|       10:43 AM| 45906| 11.598|             null|             Finance|\n",
            "|    Angela|Female|11/22/2005|        6:29 AM| 95570| 18.523|             true|         Engineering|\n",
            "|   Frances|Female|  8/8/2002|        6:51 AM|139852|  7.524|             true|Business Development|\n",
            "|    Louise|Female| 8/12/1980|        9:01 AM| 63241| 15.132|             true|                null|\n",
            "|     Julie|Female|10/26/1997|        3:19 PM|102508| 12.637|             true|               Legal|\n",
            "|   Brandon|  Male| 12/1/1980|        1:08 AM|112807| 17.492|             true|     Human Resources|\n",
            "|      Gary|  Male| 1/27/2008|       11:40 PM|109831|  5.831|            false|               Sales|\n",
            "|  Kimberly|Female| 1/14/1999|        7:13 AM| 41426| 14.543|             true|             Finance|\n",
            "|   Lillian|Female|  6/5/2016|        6:09 AM| 59414|  1.256|            false|             Product|\n",
            "|    Jeremy|  Male| 9/21/2010|        5:56 AM| 90370|  7.369|            false|     Human Resources|\n",
            "|     Shawn|  Male| 12/7/1986|        7:45 PM|111737|  6.414|            false|             Product|\n",
            "|     Diana|Female|10/23/1981|       10:27 AM|132940| 19.082|            false|     Client Services|\n",
            "|     Donna|Female| 7/22/2010|        3:48 AM| 81014|  1.894|            false|             Product|\n",
            "+----------+------+----------+---------------+------+-------+-----------------+--------------------+\n",
            "only showing top 20 rows\n",
            "\n"
          ]
        }
      ]
    },
    {
      "cell_type": "code",
      "source": [
        "groupDF = spark.sql(\"SELECT Gender,COUNT(*) FROM EMPLOYEE_DATA GROUP BY Gender\")\n",
        "groupDF.show()"
      ],
      "metadata": {
        "colab": {
          "base_uri": "https://localhost:8080/"
        },
        "id": "J9F5Vj_-k2O_",
        "outputId": "4a660d8d-c13b-4dea-e186-505424aef7bb"
      },
      "execution_count": null,
      "outputs": [
        {
          "output_type": "stream",
          "name": "stdout",
          "text": [
            "+------+--------+\n",
            "|Gender|count(1)|\n",
            "+------+--------+\n",
            "|  null|     145|\n",
            "|Female|     431|\n",
            "|  Male|     424|\n",
            "+------+--------+\n",
            "\n"
          ]
        }
      ]
    },
    {
      "cell_type": "markdown",
      "source": [
        "- PySpark Streaming"
      ],
      "metadata": {
        "id": "6k8_CM1bm_U4"
      }
    },
    {
      "cell_type": "code",
      "source": [
        "df = spark.readStream.format(\"socket\").option(\"host\",\"localhost\").option(\"port\",\"9090\").load()"
      ],
      "metadata": {
        "id": "LdsrRXCplI-s"
      },
      "execution_count": null,
      "outputs": []
    },
    {
      "cell_type": "code",
      "source": [
        "df.printSchema()"
      ],
      "metadata": {
        "colab": {
          "base_uri": "https://localhost:8080/"
        },
        "id": "-ykKM_DznW0X",
        "outputId": "5a27620f-5286-494e-a3ac-ac6778d4c7c8"
      },
      "execution_count": null,
      "outputs": [
        {
          "output_type": "stream",
          "name": "stdout",
          "text": [
            "root\n",
            " |-- value: string (nullable = true)\n",
            "\n"
          ]
        }
      ]
    },
    {
      "cell_type": "markdown",
      "source": [
        "## PySpark MLlib"
      ],
      "metadata": {
        "id": "H5Kqtbp4xJIE"
      }
    },
    {
      "cell_type": "code",
      "source": [
        "from pyspark.sql import SparkSession\n",
        "from pyspark.ml.regression import LinearRegression\n",
        "spark = SparkSession.builder.appName(\"HouseIncome\").getOrCreate()\n",
        "dataset = spark.read.csv(\"/content/insurance.csv\",header=True)\n",
        "dataset.show(10)"
      ],
      "metadata": {
        "colab": {
          "base_uri": "https://localhost:8080/"
        },
        "id": "gBvY4zOWnZlQ",
        "outputId": "096293ba-a94a-4b29-b077-99914e7a674d"
      },
      "execution_count": null,
      "outputs": [
        {
          "output_type": "stream",
          "name": "stdout",
          "text": [
            "+---+------+------+--------+------+---------+-----------+\n",
            "|age|   sex|   bmi|children|smoker|   region|    charges|\n",
            "+---+------+------+--------+------+---------+-----------+\n",
            "| 19|female|  27.9|       0|   yes|southwest|  16884.924|\n",
            "| 18|  male| 33.77|       1|    no|southeast|  1725.5523|\n",
            "| 28|  male|    33|       3|    no|southeast|   4449.462|\n",
            "| 33|  male|22.705|       0|    no|northwest|21984.47061|\n",
            "| 32|  male| 28.88|       0|    no|northwest|  3866.8552|\n",
            "| 31|female| 25.74|       0|    no|southeast|  3756.6216|\n",
            "| 46|female| 33.44|       1|    no|southeast|  8240.5896|\n",
            "| 37|female| 27.74|       3|    no|northwest|  7281.5056|\n",
            "| 37|  male| 29.83|       2|    no|northeast|  6406.4107|\n",
            "| 60|female| 25.84|       0|    no|northwest|28923.13692|\n",
            "+---+------+------+--------+------+---------+-----------+\n",
            "only showing top 10 rows\n",
            "\n"
          ]
        }
      ]
    },
    {
      "cell_type": "code",
      "source": [
        "dataset.cache()\n",
        "dataset.printSchema()"
      ],
      "metadata": {
        "colab": {
          "base_uri": "https://localhost:8080/"
        },
        "id": "JTVjr98yx-fB",
        "outputId": "d819132f-739c-4cf2-9d9d-12555d9da662"
      },
      "execution_count": null,
      "outputs": [
        {
          "output_type": "stream",
          "name": "stdout",
          "text": [
            "root\n",
            " |-- age: string (nullable = true)\n",
            " |-- sex: string (nullable = true)\n",
            " |-- bmi: string (nullable = true)\n",
            " |-- children: string (nullable = true)\n",
            " |-- smoker: string (nullable = true)\n",
            " |-- region: string (nullable = true)\n",
            " |-- charges: string (nullable = true)\n",
            "\n"
          ]
        }
      ]
    },
    {
      "cell_type": "code",
      "source": [
        "dataset.describe().toPandas().transpose()"
      ],
      "metadata": {
        "colab": {
          "base_uri": "https://localhost:8080/",
          "height": 300
        },
        "id": "oBjebW-ZzqYH",
        "outputId": "e6f853ed-b6f5-472e-f060-77f2f914a707"
      },
      "execution_count": null,
      "outputs": [
        {
          "output_type": "execute_result",
          "data": {
            "text/plain": [
              "              0                   1                   2          3           4\n",
              "summary   count                mean              stddev        min         max\n",
              "age        1338   39.20702541106129  14.049960379216147         18          64\n",
              "sex        1338                None                None     female        male\n",
              "bmi        1338  30.663396860986538   6.098186911679012      15.96       53.13\n",
              "children   1338     1.0949177877429   1.205492739781914          0           5\n",
              "smoker     1338                None                None         no         yes\n",
              "region     1338                None                None  northeast   southwest\n",
              "charges    1338  13270.422265141257  12110.011236693992  10043.249  9991.03765"
            ],
            "text/html": [
              "\n",
              "  <div id=\"df-0355bb38-c9ac-413e-9173-31987384b369\">\n",
              "    <div class=\"colab-df-container\">\n",
              "      <div>\n",
              "<style scoped>\n",
              "    .dataframe tbody tr th:only-of-type {\n",
              "        vertical-align: middle;\n",
              "    }\n",
              "\n",
              "    .dataframe tbody tr th {\n",
              "        vertical-align: top;\n",
              "    }\n",
              "\n",
              "    .dataframe thead th {\n",
              "        text-align: right;\n",
              "    }\n",
              "</style>\n",
              "<table border=\"1\" class=\"dataframe\">\n",
              "  <thead>\n",
              "    <tr style=\"text-align: right;\">\n",
              "      <th></th>\n",
              "      <th>0</th>\n",
              "      <th>1</th>\n",
              "      <th>2</th>\n",
              "      <th>3</th>\n",
              "      <th>4</th>\n",
              "    </tr>\n",
              "  </thead>\n",
              "  <tbody>\n",
              "    <tr>\n",
              "      <th>summary</th>\n",
              "      <td>count</td>\n",
              "      <td>mean</td>\n",
              "      <td>stddev</td>\n",
              "      <td>min</td>\n",
              "      <td>max</td>\n",
              "    </tr>\n",
              "    <tr>\n",
              "      <th>age</th>\n",
              "      <td>1338</td>\n",
              "      <td>39.20702541106129</td>\n",
              "      <td>14.049960379216147</td>\n",
              "      <td>18</td>\n",
              "      <td>64</td>\n",
              "    </tr>\n",
              "    <tr>\n",
              "      <th>sex</th>\n",
              "      <td>1338</td>\n",
              "      <td>None</td>\n",
              "      <td>None</td>\n",
              "      <td>female</td>\n",
              "      <td>male</td>\n",
              "    </tr>\n",
              "    <tr>\n",
              "      <th>bmi</th>\n",
              "      <td>1338</td>\n",
              "      <td>30.663396860986538</td>\n",
              "      <td>6.098186911679012</td>\n",
              "      <td>15.96</td>\n",
              "      <td>53.13</td>\n",
              "    </tr>\n",
              "    <tr>\n",
              "      <th>children</th>\n",
              "      <td>1338</td>\n",
              "      <td>1.0949177877429</td>\n",
              "      <td>1.205492739781914</td>\n",
              "      <td>0</td>\n",
              "      <td>5</td>\n",
              "    </tr>\n",
              "    <tr>\n",
              "      <th>smoker</th>\n",
              "      <td>1338</td>\n",
              "      <td>None</td>\n",
              "      <td>None</td>\n",
              "      <td>no</td>\n",
              "      <td>yes</td>\n",
              "    </tr>\n",
              "    <tr>\n",
              "      <th>region</th>\n",
              "      <td>1338</td>\n",
              "      <td>None</td>\n",
              "      <td>None</td>\n",
              "      <td>northeast</td>\n",
              "      <td>southwest</td>\n",
              "    </tr>\n",
              "    <tr>\n",
              "      <th>charges</th>\n",
              "      <td>1338</td>\n",
              "      <td>13270.422265141257</td>\n",
              "      <td>12110.011236693992</td>\n",
              "      <td>10043.249</td>\n",
              "      <td>9991.03765</td>\n",
              "    </tr>\n",
              "  </tbody>\n",
              "</table>\n",
              "</div>\n",
              "      <button class=\"colab-df-convert\" onclick=\"convertToInteractive('df-0355bb38-c9ac-413e-9173-31987384b369')\"\n",
              "              title=\"Convert this dataframe to an interactive table.\"\n",
              "              style=\"display:none;\">\n",
              "        \n",
              "  <svg xmlns=\"http://www.w3.org/2000/svg\" height=\"24px\"viewBox=\"0 0 24 24\"\n",
              "       width=\"24px\">\n",
              "    <path d=\"M0 0h24v24H0V0z\" fill=\"none\"/>\n",
              "    <path d=\"M18.56 5.44l.94 2.06.94-2.06 2.06-.94-2.06-.94-.94-2.06-.94 2.06-2.06.94zm-11 1L8.5 8.5l.94-2.06 2.06-.94-2.06-.94L8.5 2.5l-.94 2.06-2.06.94zm10 10l.94 2.06.94-2.06 2.06-.94-2.06-.94-.94-2.06-.94 2.06-2.06.94z\"/><path d=\"M17.41 7.96l-1.37-1.37c-.4-.4-.92-.59-1.43-.59-.52 0-1.04.2-1.43.59L10.3 9.45l-7.72 7.72c-.78.78-.78 2.05 0 2.83L4 21.41c.39.39.9.59 1.41.59.51 0 1.02-.2 1.41-.59l7.78-7.78 2.81-2.81c.8-.78.8-2.07 0-2.86zM5.41 20L4 18.59l7.72-7.72 1.47 1.35L5.41 20z\"/>\n",
              "  </svg>\n",
              "      </button>\n",
              "      \n",
              "  <style>\n",
              "    .colab-df-container {\n",
              "      display:flex;\n",
              "      flex-wrap:wrap;\n",
              "      gap: 12px;\n",
              "    }\n",
              "\n",
              "    .colab-df-convert {\n",
              "      background-color: #E8F0FE;\n",
              "      border: none;\n",
              "      border-radius: 50%;\n",
              "      cursor: pointer;\n",
              "      display: none;\n",
              "      fill: #1967D2;\n",
              "      height: 32px;\n",
              "      padding: 0 0 0 0;\n",
              "      width: 32px;\n",
              "    }\n",
              "\n",
              "    .colab-df-convert:hover {\n",
              "      background-color: #E2EBFA;\n",
              "      box-shadow: 0px 1px 2px rgba(60, 64, 67, 0.3), 0px 1px 3px 1px rgba(60, 64, 67, 0.15);\n",
              "      fill: #174EA6;\n",
              "    }\n",
              "\n",
              "    [theme=dark] .colab-df-convert {\n",
              "      background-color: #3B4455;\n",
              "      fill: #D2E3FC;\n",
              "    }\n",
              "\n",
              "    [theme=dark] .colab-df-convert:hover {\n",
              "      background-color: #434B5C;\n",
              "      box-shadow: 0px 1px 3px 1px rgba(0, 0, 0, 0.15);\n",
              "      filter: drop-shadow(0px 1px 2px rgba(0, 0, 0, 0.3));\n",
              "      fill: #FFFFFF;\n",
              "    }\n",
              "  </style>\n",
              "\n",
              "      <script>\n",
              "        const buttonEl =\n",
              "          document.querySelector('#df-0355bb38-c9ac-413e-9173-31987384b369 button.colab-df-convert');\n",
              "        buttonEl.style.display =\n",
              "          google.colab.kernel.accessAllowed ? 'block' : 'none';\n",
              "\n",
              "        async function convertToInteractive(key) {\n",
              "          const element = document.querySelector('#df-0355bb38-c9ac-413e-9173-31987384b369');\n",
              "          const dataTable =\n",
              "            await google.colab.kernel.invokeFunction('convertToInteractive',\n",
              "                                                     [key], {});\n",
              "          if (!dataTable) return;\n",
              "\n",
              "          const docLinkHtml = 'Like what you see? Visit the ' +\n",
              "            '<a target=\"_blank\" href=https://colab.research.google.com/notebooks/data_table.ipynb>data table notebook</a>'\n",
              "            + ' to learn more about interactive tables.';\n",
              "          element.innerHTML = '';\n",
              "          dataTable['output_type'] = 'display_data';\n",
              "          await google.colab.output.renderOutput(dataTable, element);\n",
              "          const docLink = document.createElement('div');\n",
              "          docLink.innerHTML = docLinkHtml;\n",
              "          element.appendChild(docLink);\n",
              "        }\n",
              "      </script>\n",
              "    </div>\n",
              "  </div>\n",
              "  "
            ]
          },
          "metadata": {},
          "execution_count": 31
        }
      ]
    },
    {
      "cell_type": "code",
      "source": [
        "import pandas as pd\n",
        "\n",
        "numeric_features = [t[0] for t in dataset.dtypes if t[1]==\"int\" or t[1] == \"double\"]\n",
        "sampled_data = dataset.select(numeric_features).sample(False,0.8).toPandas()\n"
      ],
      "metadata": {
        "id": "tehVVfJCzyHP"
      },
      "execution_count": null,
      "outputs": []
    },
    {
      "cell_type": "code",
      "source": [
        "dataset.show(2)"
      ],
      "metadata": {
        "colab": {
          "base_uri": "https://localhost:8080/"
        },
        "id": "V32Cwm7d0zLD",
        "outputId": "20fa6e4b-8501-44a0-f970-69fa4d9f9d4f"
      },
      "execution_count": null,
      "outputs": [
        {
          "output_type": "stream",
          "name": "stdout",
          "text": [
            "+---+------+-----+--------+------+---------+---------+\n",
            "|age|   sex|  bmi|children|smoker|   region|  charges|\n",
            "+---+------+-----+--------+------+---------+---------+\n",
            "| 19|female| 27.9|       0|   yes|southwest|16884.924|\n",
            "| 18|  male|33.77|       1|    no|southeast|1725.5523|\n",
            "+---+------+-----+--------+------+---------+---------+\n",
            "only showing top 2 rows\n",
            "\n"
          ]
        }
      ]
    },
    {
      "cell_type": "code",
      "source": [
        "from pyspark.sql.types import *\n",
        "from pyspark.sql.functions import *\n",
        "from pyspark.sql import SparkSession\n",
        "from pyspark.ml import Pipeline\n",
        "\n",
        "from pyspark.ml.feature import VectorAssembler,StringIndexer,VectorIndexer,MinMaxScaler\n",
        "from pyspark.ml.classification import LogisticRegression\n",
        "from pyspark.ml.tuning import ParamGridBuilder,CrossValidator\n",
        "from pyspark.ml.evaluation import BinaryClassificationEvaluator\n",
        "\n",
        "spark = SparkSession.builder.master(\"local[*]\").getOrCreate()"
      ],
      "metadata": {
        "id": "S7kKHTIA3KdG"
      },
      "execution_count": null,
      "outputs": []
    },
    {
      "cell_type": "code",
      "source": [
        "csv = spark.read.csv(\"/content/flights.csv\",inferSchema=True,header=True)\n",
        "csv.show(10)"
      ],
      "metadata": {
        "colab": {
          "base_uri": "https://localhost:8080/"
        },
        "id": "w_iNfuyS3tJM",
        "outputId": "b14330b4-f7c5-43af-b4a4-ad4b42b7aeaf"
      },
      "execution_count": null,
      "outputs": [
        {
          "output_type": "stream",
          "name": "stdout",
          "text": [
            "+----------+---------+-------+---------------+-------------+--------+--------+\n",
            "|DayofMonth|DayOfWeek|Carrier|OriginAirportID|DestAirportID|DepDelay|ArrDelay|\n",
            "+----------+---------+-------+---------------+-------------+--------+--------+\n",
            "|        19|        5|     DL|          11433|        13303|      -3|       1|\n",
            "|        19|        5|     DL|          14869|        12478|       0|      -8|\n",
            "|        19|        5|     DL|          14057|        14869|      -4|     -15|\n",
            "|        19|        5|     DL|          15016|        11433|      28|      24|\n",
            "|        19|        5|     DL|          11193|        12892|      -6|     -11|\n",
            "|        19|        5|     DL|          10397|        15016|      -1|     -19|\n",
            "|        19|        5|     DL|          15016|        10397|       0|      -1|\n",
            "|        19|        5|     DL|          10397|        14869|      15|      24|\n",
            "|        19|        5|     DL|          10397|        10423|      33|      34|\n",
            "|        19|        5|     DL|          11278|        10397|     323|     322|\n",
            "+----------+---------+-------+---------------+-------------+--------+--------+\n",
            "only showing top 10 rows\n",
            "\n"
          ]
        }
      ]
    },
    {
      "cell_type": "code",
      "source": [
        "data = csv.select(\"DayofMonth\",\"DayofWeek\",\"Carrier\",\"OriginAirportID\",\"DestAirportID\",\"DepDelay\",\n",
        "                  ((col(\"ArrDelay\")>15).cast(\"Int\").alias(\"label\")))\n",
        "data.show(10)"
      ],
      "metadata": {
        "colab": {
          "base_uri": "https://localhost:8080/"
        },
        "id": "qByRwJSp3tLx",
        "outputId": "1c991307-a5a9-4893-e4a1-e12881fc29d3"
      },
      "execution_count": null,
      "outputs": [
        {
          "output_type": "stream",
          "name": "stdout",
          "text": [
            "+----------+---------+-------+---------------+-------------+--------+-----+\n",
            "|DayofMonth|DayofWeek|Carrier|OriginAirportID|DestAirportID|DepDelay|label|\n",
            "+----------+---------+-------+---------------+-------------+--------+-----+\n",
            "|        19|        5|     DL|          11433|        13303|      -3|    0|\n",
            "|        19|        5|     DL|          14869|        12478|       0|    0|\n",
            "|        19|        5|     DL|          14057|        14869|      -4|    0|\n",
            "|        19|        5|     DL|          15016|        11433|      28|    1|\n",
            "|        19|        5|     DL|          11193|        12892|      -6|    0|\n",
            "|        19|        5|     DL|          10397|        15016|      -1|    0|\n",
            "|        19|        5|     DL|          15016|        10397|       0|    0|\n",
            "|        19|        5|     DL|          10397|        14869|      15|    1|\n",
            "|        19|        5|     DL|          10397|        10423|      33|    1|\n",
            "|        19|        5|     DL|          11278|        10397|     323|    1|\n",
            "+----------+---------+-------+---------------+-------------+--------+-----+\n",
            "only showing top 10 rows\n",
            "\n"
          ]
        }
      ]
    },
    {
      "cell_type": "code",
      "source": [
        "splits = data.randomSplit([0.7,0.3])\n",
        "train = splits[0]\n",
        "test = splits[1].withColumnRenamed(\"label\",\"trueLabel\")\n",
        "train_rows =train.count()\n",
        "test_rows = test.count()\n",
        "print(\"Training Rows: \",train_rows,\"Testing Rows: \",test_rows)"
      ],
      "metadata": {
        "colab": {
          "base_uri": "https://localhost:8080/"
        },
        "id": "kF__0dGf3tOl",
        "outputId": "92cd605f-a292-480c-b9bd-65f9f661d923"
      },
      "execution_count": null,
      "outputs": [
        {
          "output_type": "stream",
          "name": "stdout",
          "text": [
            "Training Rows:  1890917 Testing Rows:  811301\n"
          ]
        }
      ]
    },
    {
      "cell_type": "markdown",
      "source": [
        "**Define the pipeline**\n",
        "\n",
        "- A pipeline consists of a series of transformer and estimator stages that typically prepare a DataFrame for modeling and then train a predictive model.\n",
        "\n",
        "- `StringIndexer estimator` It converts string values to indexes for categorical features.\n",
        "- `VectorAssembler` It combines categorical features into a single vector.\n",
        "- `VectorIndexer` It created indexes for a vector of categorical features.\n",
        "- `VectorAssember` It creates a vectoe of continuous numeric features\n",
        "- `VectoeAssembler` It creates a vector of categorical and continuous features"
      ],
      "metadata": {
        "id": "X-Gf04wSFEFq"
      }
    },
    {
      "cell_type": "code",
      "source": [
        "strIdx = StringIndexer(inputCol=\"Carrier\",outputCol=\"CarrierIdx\")\n",
        "catVect = VectorAssembler(inputCols=[\"CarrierIdx\",\"DayofMonth\",\"DayofWeek\",\"OriginAirportID\",\"DestAirportID\"],\n",
        "                          outputCol=\"catFeatures\")\n",
        "catIdx = VectorIndexer(inputCol=catVect.getOutputCol(),outputCol=\"idxCatFeatures\")\n",
        "numVect = VectorAssembler(inputCols=[\"DepDelay\"],outputCol=\"numFeatures\")\n",
        "minMax =MinMaxScaler(inputCol=numVect.getOutputCol(),outputCol=\"normFeatures\")\n",
        "featVect = VectorAssembler(inputCols=[\"idxCatFeatures\",\"normFeatures\"],outputCol=\"features\")\n",
        "lr = LogisticRegression(labelCol=\"label\",featuresCol=\"features\",maxIter=10,regParam=0.3)\n",
        "\n",
        "pipeline = Pipeline(stages=[strIdx,catVect,catIdx,numVect,minMax,featVect,lr])"
      ],
      "metadata": {
        "id": "uE6G1uMf3tSM"
      },
      "execution_count": null,
      "outputs": []
    },
    {
      "cell_type": "markdown",
      "source": [
        "**Run the Pipeline to train a model**"
      ],
      "metadata": {
        "id": "vhHuymkbJdmf"
      }
    },
    {
      "cell_type": "code",
      "source": [
        "%time\n",
        "pipelineModel = pipeline.fit(train)"
      ],
      "metadata": {
        "colab": {
          "base_uri": "https://localhost:8080/"
        },
        "id": "DRq0QG8d3KfV",
        "outputId": "2370ef5a-a3c6-4796-c35c-f410f8d74302"
      },
      "execution_count": null,
      "outputs": [
        {
          "output_type": "stream",
          "name": "stdout",
          "text": [
            "CPU times: user 3 µs, sys: 0 ns, total: 3 µs\n",
            "Wall time: 5.72 µs\n"
          ]
        }
      ]
    },
    {
      "cell_type": "markdown",
      "source": [
        "**Generate label predictions**"
      ],
      "metadata": {
        "id": "G1nG50OELQOk"
      }
    },
    {
      "cell_type": "code",
      "source": [
        "prediction = pipelineModel.transform(test)\n",
        "predicted = prediction.select(\"features\",\"prediction\",\"trueLabel\")\n",
        "predicted.show(100,truncate=False)"
      ],
      "metadata": {
        "colab": {
          "base_uri": "https://localhost:8080/"
        },
        "id": "8xEBDnzL3Kh-",
        "outputId": "db4d742e-f0ef-460d-8f40-c6b91a53550a"
      },
      "execution_count": null,
      "outputs": [
        {
          "output_type": "stream",
          "name": "stdout",
          "text": [
            "+---------------------------------------------------+----------+---------+\n",
            "|features                                           |prediction|trueLabel|\n",
            "+---------------------------------------------------+----------+---------+\n",
            "|[10.0,1.0,0.0,10397.0,13851.0,0.03374870197300104] |0.0       |0        |\n",
            "|[10.0,1.0,0.0,10423.0,13487.0,0.027518172377985463]|0.0       |0        |\n",
            "|[10.0,1.0,0.0,10423.0,13487.0,0.030633437175493248]|0.0       |0        |\n",
            "|[10.0,1.0,0.0,10423.0,13487.0,0.03167185877466251] |0.0       |0        |\n",
            "|[10.0,1.0,0.0,10423.0,14869.0,0.027518172377985463]|0.0       |0        |\n",
            "|[10.0,1.0,0.0,10529.0,11193.0,0.030633437175493248]|0.0       |0        |\n",
            "|[10.0,1.0,0.0,10529.0,11433.0,0.030114226375908618]|0.0       |0        |\n",
            "|[10.0,1.0,0.0,10693.0,12478.0,0.03686396677050883] |0.0       |0        |\n",
            "|[10.0,1.0,0.0,10721.0,13931.0,0.028556593977154723]|0.0       |0        |\n",
            "|[10.0,1.0,0.0,10721.0,13931.0,0.041536863966770504]|0.0       |0        |\n",
            "|[10.0,1.0,0.0,10792.0,11433.0,0.030633437175493248]|0.0       |0        |\n",
            "|[10.0,1.0,0.0,10792.0,11433.0,0.03686396677050883] |0.0       |1        |\n",
            "|[10.0,1.0,0.0,10792.0,12478.0,0.055036344755970926]|0.0       |1        |\n",
            "|[10.0,1.0,0.0,10821.0,11193.0,0.07840083073727934] |0.0       |1        |\n",
            "|[10.0,1.0,0.0,10821.0,12478.0,0.027518172377985463]|0.0       |0        |\n",
            "|[10.0,1.0,0.0,10821.0,12478.0,0.029595015576323987]|0.0       |1        |\n",
            "|[10.0,1.0,0.0,10821.0,12478.0,0.030633437175493248]|0.0       |0        |\n",
            "|[10.0,1.0,0.0,10821.0,13487.0,0.029075804776739357]|0.0       |0        |\n",
            "|[10.0,1.0,0.0,10821.0,13487.0,0.06749740394600208] |0.0       |1        |\n",
            "|[10.0,1.0,0.0,10821.0,14492.0,0.029075804776739357]|0.0       |0        |\n",
            "|[10.0,1.0,0.0,10821.0,14492.0,0.030114226375908618]|0.0       |0        |\n",
            "|[10.0,1.0,0.0,11042.0,11433.0,0.029595015576323987]|0.0       |0        |\n",
            "|[10.0,1.0,0.0,11042.0,11433.0,0.059190031152647975]|0.0       |1        |\n",
            "|[10.0,1.0,0.0,11042.0,12478.0,0.030633437175493248]|0.0       |0        |\n",
            "|[10.0,1.0,0.0,11042.0,13487.0,0.02596053997923157] |0.0       |0        |\n",
            "|[10.0,1.0,0.0,11042.0,13487.0,0.028037383177570093]|0.0       |0        |\n",
            "|[10.0,1.0,0.0,11042.0,13487.0,0.03115264797507788] |0.0       |0        |\n",
            "|[10.0,1.0,0.0,11057.0,11193.0,0.028037383177570093]|0.0       |0        |\n",
            "|[10.0,1.0,0.0,11057.0,11193.0,0.0861889927310488]  |0.0       |1        |\n",
            "|[10.0,1.0,0.0,11057.0,12478.0,0.03115264797507788] |0.0       |0        |\n",
            "|[10.0,1.0,0.0,11057.0,12478.0,0.04880581516095535] |0.0       |1        |\n",
            "|[10.0,1.0,0.0,11066.0,10721.0,0.03946002076843198] |0.0       |0        |\n",
            "|[10.0,1.0,0.0,11066.0,12478.0,0.08255451713395638] |0.0       |1        |\n",
            "|[10.0,1.0,0.0,11066.0,13487.0,0.030114226375908618]|0.0       |0        |\n",
            "|[10.0,1.0,0.0,11066.0,13487.0,0.030114226375908618]|0.0       |0        |\n",
            "|[10.0,1.0,0.0,11066.0,13487.0,0.032191069574247146]|0.0       |0        |\n",
            "|[10.0,1.0,0.0,11193.0,10529.0,0.029595015576323987]|0.0       |0        |\n",
            "|[10.0,1.0,0.0,11193.0,10721.0,0.03115264797507788] |0.0       |0        |\n",
            "|[10.0,1.0,0.0,11193.0,10721.0,0.03946002076843198] |0.0       |0        |\n",
            "|[10.0,1.0,0.0,11193.0,10821.0,0.030633437175493248]|0.0       |0        |\n",
            "|[10.0,1.0,0.0,11193.0,11057.0,0.028556593977154723]|0.0       |0        |\n",
            "|[10.0,1.0,0.0,11193.0,11057.0,0.06334371754932502] |0.0       |1        |\n",
            "|[10.0,1.0,0.0,11193.0,11278.0,0.10955347871235721] |1.0       |1        |\n",
            "|[10.0,1.0,0.0,11193.0,11298.0,0.03271028037383177] |0.0       |0        |\n",
            "|[10.0,1.0,0.0,11193.0,11433.0,0.029075804776739357]|0.0       |0        |\n",
            "|[10.0,1.0,0.0,11193.0,11433.0,0.030114226375908618]|0.0       |0        |\n",
            "|[10.0,1.0,0.0,11193.0,11433.0,0.03115264797507788] |0.0       |0        |\n",
            "|[10.0,1.0,0.0,11193.0,11433.0,0.03167185877466251] |0.0       |0        |\n",
            "|[10.0,1.0,0.0,11193.0,11618.0,0.033229491173416406]|0.0       |0        |\n",
            "|[10.0,1.0,0.0,11193.0,11618.0,0.041536863966770504]|0.0       |0        |\n",
            "|[10.0,1.0,0.0,11193.0,13198.0,0.040498442367601244]|0.0       |0        |\n",
            "|[10.0,1.0,0.0,11193.0,13244.0,0.028037383177570093]|0.0       |0        |\n",
            "|[10.0,1.0,0.0,11193.0,13244.0,0.032191069574247146]|0.0       |0        |\n",
            "|[10.0,1.0,0.0,11193.0,13342.0,0.04205607476635514] |0.0       |0        |\n",
            "|[10.0,1.0,0.0,11193.0,13487.0,0.029075804776739357]|0.0       |0        |\n",
            "|[10.0,1.0,0.0,11193.0,13487.0,0.029595015576323987]|0.0       |0        |\n",
            "|[10.0,1.0,0.0,11193.0,13487.0,0.030633437175493248]|0.0       |0        |\n",
            "|[10.0,1.0,0.0,11193.0,13487.0,0.030633437175493248]|0.0       |0        |\n",
            "|[10.0,1.0,0.0,11193.0,13487.0,0.03271028037383177] |0.0       |1        |\n",
            "|[10.0,1.0,0.0,11193.0,13930.0,0.030114226375908618]|0.0       |0        |\n",
            "|[10.0,1.0,0.0,11193.0,13930.0,0.030633437175493248]|0.0       |0        |\n",
            "|[10.0,1.0,0.0,11193.0,13930.0,0.032191069574247146]|0.0       |0        |\n",
            "|[10.0,1.0,0.0,11193.0,13930.0,0.04776739356178608] |0.0       |1        |\n",
            "|[10.0,1.0,0.0,11193.0,13930.0,0.04880581516095535] |0.0       |1        |\n",
            "|[10.0,1.0,0.0,11193.0,13930.0,0.07217030114226376] |0.0       |1        |\n",
            "|[10.0,1.0,0.0,11193.0,14100.0,0.029595015576323987]|0.0       |0        |\n",
            "|[10.0,1.0,0.0,11193.0,14100.0,0.03271028037383177] |0.0       |0        |\n",
            "|[10.0,1.0,0.0,11193.0,14100.0,0.10124610591900311] |1.0       |1        |\n",
            "|[10.0,1.0,0.0,11193.0,14122.0,0.029075804776739357]|0.0       |0        |\n",
            "|[10.0,1.0,0.0,11193.0,14122.0,0.049325025960539975]|0.0       |1        |\n",
            "|[10.0,1.0,0.0,11193.0,14492.0,0.04620976116303219] |0.0       |1        |\n",
            "|[10.0,1.0,0.0,11278.0,11193.0,0.030114226375908618]|0.0       |0        |\n",
            "|[10.0,1.0,0.0,11278.0,11193.0,0.030633437175493248]|0.0       |0        |\n",
            "|[10.0,1.0,0.0,11278.0,11193.0,0.040498442367601244]|0.0       |0        |\n",
            "|[10.0,1.0,0.0,11278.0,12478.0,0.030114226375908618]|0.0       |1        |\n",
            "|[10.0,1.0,0.0,11278.0,13244.0,0.03115264797507788] |0.0       |0        |\n",
            "|[10.0,1.0,0.0,11278.0,13244.0,0.04672897196261682] |0.0       |1        |\n",
            "|[10.0,1.0,0.0,11298.0,11193.0,0.029595015576323987]|0.0       |0        |\n",
            "|[10.0,1.0,0.0,11298.0,13244.0,0.029075804776739357]|0.0       |0        |\n",
            "|[10.0,1.0,0.0,11298.0,14869.0,0.03426791277258567] |0.0       |0        |\n",
            "|[10.0,1.0,0.0,11433.0,10423.0,0.03167185877466251] |0.0       |0        |\n",
            "|[10.0,1.0,0.0,11433.0,10529.0,0.03374870197300104] |0.0       |0        |\n",
            "|[10.0,1.0,0.0,11433.0,10693.0,0.033229491173416406]|0.0       |1        |\n",
            "|[10.0,1.0,0.0,11433.0,10792.0,0.030633437175493248]|0.0       |0        |\n",
            "|[10.0,1.0,0.0,11433.0,10792.0,0.03115264797507788] |0.0       |0        |\n",
            "|[10.0,1.0,0.0,11433.0,11042.0,0.0347871235721703]  |0.0       |0        |\n",
            "|[10.0,1.0,0.0,11433.0,11066.0,0.030114226375908618]|0.0       |0        |\n",
            "|[10.0,1.0,0.0,11433.0,11193.0,0.030114226375908618]|0.0       |0        |\n",
            "|[10.0,1.0,0.0,11433.0,11193.0,0.07372793354101766] |0.0       |1        |\n",
            "|[10.0,1.0,0.0,11433.0,11298.0,0.03167185877466251] |0.0       |0        |\n",
            "|[10.0,1.0,0.0,11433.0,12264.0,0.03167185877466251] |0.0       |0        |\n",
            "|[10.0,1.0,0.0,11433.0,12266.0,0.032191069574247146]|0.0       |0        |\n",
            "|[10.0,1.0,0.0,11433.0,12339.0,0.03894080996884735] |0.0       |1        |\n",
            "|[10.0,1.0,0.0,11433.0,12451.0,0.0430944963655244]  |0.0       |1        |\n",
            "|[10.0,1.0,0.0,11433.0,12478.0,0.03271028037383177] |0.0       |0        |\n",
            "|[10.0,1.0,0.0,11433.0,12478.0,0.03271028037383177] |0.0       |1        |\n",
            "|[10.0,1.0,0.0,11433.0,13232.0,0.030633437175493248]|0.0       |0        |\n",
            "|[10.0,1.0,0.0,11433.0,13342.0,0.03167185877466251] |0.0       |0        |\n",
            "|[10.0,1.0,0.0,11433.0,13851.0,0.033229491173416406]|0.0       |0        |\n",
            "|[10.0,1.0,0.0,11433.0,13871.0,0.030114226375908618]|0.0       |0        |\n",
            "+---------------------------------------------------+----------+---------+\n",
            "only showing top 100 rows\n",
            "\n"
          ]
        }
      ]
    },
    {
      "cell_type": "markdown",
      "source": [
        "**Compute Confusion Matrix**"
      ],
      "metadata": {
        "id": "eGGSbjNVL0Oy"
      }
    },
    {
      "cell_type": "code",
      "source": [
        "tp = float(predicted.filter(\"prediction==1.0 AND truelabel == 1\").count())\n",
        "fp = float(predicted.filter(\"prediction==1.0 AND truelabel == 0\").count())\n",
        "tn = float(predicted.filter(\"prediction == 0.0 AND truelabel == 0\").count())\n",
        "fn = float(predicted.filter(\"prediction == 0.0 AND truelabel == 1\").count())\n",
        "\n",
        "pr = tp / (tp+fp)\n",
        "re = tp / (tp+fn)\n",
        "metrics = spark.createDataFrame([\n",
        "    (\"TP\",tp),\n",
        "    (\"FP\",fp),\n",
        "    (\"TN\",tn),\n",
        "    (\"FN\",fn),\n",
        "    (\"Precision\",pr),\n",
        "    (\"Recall\",re),\n",
        "    (\"F1\",2*pr*re/(re+pr))],[\"metric\",\"value\"])\n",
        "metrics.show()"
      ],
      "metadata": {
        "colab": {
          "base_uri": "https://localhost:8080/"
        },
        "id": "N2iSjSa13Kkp",
        "outputId": "3fce478e-b783-4c0e-aa11-0edac7fa7dbf"
      },
      "execution_count": null,
      "outputs": [
        {
          "output_type": "stream",
          "name": "stdout",
          "text": [
            "+---------+-------------------+\n",
            "|   metric|              value|\n",
            "+---------+-------------------+\n",
            "|       TP|            19326.0|\n",
            "|       FP|               83.0|\n",
            "|       TN|           649607.0|\n",
            "|       FN|           142285.0|\n",
            "|Precision| 0.9957236333659643|\n",
            "|   Recall|0.11958344419624901|\n",
            "|       F1| 0.2135233675836924|\n",
            "+---------+-------------------+\n",
            "\n"
          ]
        }
      ]
    },
    {
      "cell_type": "markdown",
      "source": [
        "**Review the Area Under ROC**"
      ],
      "metadata": {
        "id": "XEq2YB4TNm4s"
      }
    },
    {
      "cell_type": "code",
      "source": [
        "evaluator = BinaryClassificationEvaluator(labelCol=\"trueLabel\",rawPredictionCol=\"rawPrediction\",\n",
        "                                          metricName=\"areaUnderROC\")\n",
        "aur = evaluator.evaluate(prediction)\n",
        "print(\"AUR = \",aur)"
      ],
      "metadata": {
        "colab": {
          "base_uri": "https://localhost:8080/"
        },
        "id": "AlvK7UIq3Knd",
        "outputId": "9cb6c5e8-dbee-4b95-d4ca-447d9fb05b80"
      },
      "execution_count": null,
      "outputs": [
        {
          "output_type": "stream",
          "name": "stdout",
          "text": [
            "AUR =  0.9228129212062658\n"
          ]
        }
      ]
    },
    {
      "cell_type": "markdown",
      "source": [
        "**View the Raw Prediction and Probability**"
      ],
      "metadata": {
        "id": "s0GdmsNmOPwD"
      }
    },
    {
      "cell_type": "code",
      "source": [
        "prediction.select(\"rawPrediction\",\"probability\",\"prediction\",\"trueLabel\").show(50,truncate=False)"
      ],
      "metadata": {
        "colab": {
          "base_uri": "https://localhost:8080/"
        },
        "id": "9-dIwoS73KqZ",
        "outputId": "5fb66f32-37a4-4918-dfd9-133ff4454147"
      },
      "execution_count": null,
      "outputs": [
        {
          "output_type": "stream",
          "name": "stdout",
          "text": [
            "+------------------------------------------+----------------------------------------+----------+---------+\n",
            "|rawPrediction                             |probability                             |prediction|trueLabel|\n",
            "+------------------------------------------+----------------------------------------+----------+---------+\n",
            "|[1.5304616427232163,-1.5304616427232163]  |[0.8220738480129977,0.17792615198700235]|0.0       |0        |\n",
            "|[1.698117069352831,-1.698117069352831]    |[0.84528865332041,0.15471134667958997]  |0.0       |0        |\n",
            "|[1.6143364033628447,-1.6143364033628447]  |[0.8340125688611023,0.1659874311388977] |0.0       |0        |\n",
            "|[1.5864095146995156,-1.5864095146995156]  |[0.8301103471193907,0.1698896528806093] |0.0       |0        |\n",
            "|[1.6986221583213963,-1.6986221583213963]  |[0.8453546951878099,0.15464530481219008]|0.0       |0        |\n",
            "|[1.6144239837852346,-1.6144239837852346]  |[0.8340246927550932,0.16597530724490683]|0.0       |0        |\n",
            "|[1.6284751425542763,-1.6284751425542763]  |[0.8359606415010922,0.16403935849890783]|0.0       |0        |\n",
            "|[1.4487649444040385,-1.4487649444040385]  |[0.8098082849520236,0.19019171504797638]|0.0       |0        |\n",
            "|[1.6729556911476227,-1.6729556911476227]  |[0.8419694937744693,0.15803050622553072]|0.0       |0        |\n",
            "|[1.3238695828560127,-1.3238695828560127]  |[0.7898247838564773,0.21017521614352275]|0.0       |0        |\n",
            "|[1.6168091874540873,-1.6168091874540873]  |[0.8343546075419003,0.16564539245809973]|0.0       |0        |\n",
            "|[1.4492478554741146,-1.4492478554741146]  |[0.8098826512210052,0.19011734877899478]|0.0       |1        |\n",
            "|[0.9609092271452753,-0.9609092271452753]  |[0.7233038106109684,0.2766961893890316] |0.0       |1        |\n",
            "|[0.3323379298180824,-0.3323379298180824]  |[0.5823281222073249,0.4176718777926751] |0.0       |1        |\n",
            "|[1.7012251120379855,-1.7012251120379855]  |[0.8456946738641418,0.15430532613585823]|0.0       |0        |\n",
            "|[1.6453713347113281,-1.6453713347113281]  |[0.8382644913802798,0.1617355086197202] |0.0       |1        |\n",
            "|[1.6174444460479993,-1.6174444460479993]  |[0.8344423860768554,0.1655576139231446] |0.0       |0        |\n",
            "|[1.6597035451568005,-1.6597035451568005]  |[0.8401982035069676,0.1598017964930324] |0.0       |0        |\n",
            "|[0.6264086646136349,-0.6264086646136349]  |[0.6516746924720445,0.34832530752795554]|0.0       |1        |\n",
            "|[1.660070849363319,-1.660070849363319]    |[0.84024751351108,0.15975248648892004]  |0.0       |0        |\n",
            "|[1.63214396069999,-1.63214396069999]      |[0.836463128256702,0.163536871743298]   |0.0       |0        |\n",
            "|[1.6469200012423928,-1.6469200012423928]  |[0.8384743451741649,0.16152565482583514]|0.0       |0        |\n",
            "|[0.8510036743375222,-0.8510036743375222]  |[0.7007776436790562,0.29922235632094385]|0.0       |1        |\n",
            "|[1.6193750358584786,-1.6193750358584786]  |[0.8347089215815795,0.1652910784184205] |0.0       |0        |\n",
            "|[1.745414800957266,-1.745414800957266]    |[0.8513735405838329,0.14862645941616714]|0.0       |0        |\n",
            "|[1.6895610236306084,-1.6895610236306084]  |[0.8441664214897168,0.15583357851028323]|0.0       |0        |\n",
            "|[1.6057803576406222,-1.6057803576406222]  |[0.8328247200854156,0.16717527991458436]|0.0       |0        |\n",
            "|[1.688853655307507,-1.688853655307507]    |[0.8440733449028233,0.15592665509717674]|0.0       |0        |\n",
            "|[0.12494789016109475,-0.12494789016109475]|[0.5311963966492138,0.4688036033507862] |0.0       |1        |\n",
            "|[1.6055426270343127,-1.6055426270343127]  |[0.8327916187796183,0.16720838122038173]|0.0       |0        |\n",
            "|[1.1307855197577232,-1.1307855197577232]  |[0.7559838348488609,0.2440161651511391] |0.0       |1        |\n",
            "|[1.3815639962552138,-1.3815639962552138]  |[0.7992420674457076,0.20075793255429242]|0.0       |0        |\n",
            "|[0.2232402595040366,-0.2232402595040366]  |[0.5555794339926351,0.4444205660073649] |0.0       |1        |\n",
            "|[1.6339169031159488,-1.6339169031159488]  |[0.8367055089436252,0.16329449105637484]|0.0       |0        |\n",
            "|[1.6339169031159488,-1.6339169031159488]  |[0.8367055089436252,0.16329449105637484]|0.0       |0        |\n",
            "|[1.5780631257892912,-1.5780631257892912]  |[0.8289300344255298,0.17106996557447018]|0.0       |0        |\n",
            "|[1.6479087009704234,-1.6479087009704234]  |[0.8386082050311223,0.16139179496887768]|0.0       |0        |\n",
            "|[1.6060885395253321,-1.6060885395253321]  |[0.8328676231412326,0.16713237685876736]|0.0       |0        |\n",
            "|[1.3826734302187018,-1.3826734302187018]  |[0.7994200216710551,0.20057997832894492]|0.0       |0        |\n",
            "|[1.6200885315392373,-1.6200885315392373]  |[0.8348073390287067,0.16519266097129326]|0.0       |0        |\n",
            "|[1.6760285613959827,-1.6760285613959827]  |[0.8423779307389339,0.15762206926106614]|0.0       |0        |\n",
            "|[0.7404777911744682,-0.7404777911744682]  |[0.6771003271765075,0.3228996728234925] |0.0       |1        |\n",
            "|[-0.5021879839659111,0.5021879839659111]  |[0.3770266223821021,0.6229733776178978] |1.0       |1        |\n",
            "|[1.5644090866568674,-1.5644090866568674]  |[0.8269851181255851,0.17301488187441494]|0.0       |0        |\n",
            "|[1.6622025363495432,-1.6622025363495432]  |[0.8405334458335995,0.15946655416640054]|0.0       |0        |\n",
            "|[1.6342756476862144,-1.6342756476862144]  |[0.836754518078701,0.16324548192129895] |0.0       |0        |\n",
            "|[1.6063487590228855,-1.6063487590228855]  |[0.8329038423354632,0.16709615766453678]|0.0       |0        |\n",
            "|[1.5923853146912212,-1.5923853146912212]  |[0.8309514355176593,0.16904856448234074]|0.0       |0        |\n",
            "|[1.550562594908373,-1.550562594908373]    |[0.8249949731661526,0.17500502683384744]|0.0       |0        |\n",
            "|[1.327147485601743,-1.327147485601743]    |[0.7903684040040377,0.20963159599596226]|0.0       |0        |\n",
            "+------------------------------------------+----------------------------------------+----------+---------+\n",
            "only showing top 50 rows\n",
            "\n"
          ]
        }
      ]
    },
    {
      "cell_type": "markdown",
      "source": [
        "**Tune Parameters**"
      ],
      "metadata": {
        "id": "nSA0kxfAO5PB"
      }
    },
    {
      "cell_type": "code",
      "source": [
        "paramGrid = ParamGridBuilder().addGrid(lr.regParam,[0.3,0.1]).addGrid(lr.maxIter,[10,5]).addGrid(lr.threshold,\n",
        "                                                                                                 [0.4,0.3]).build()\n",
        "cv = CrossValidator(estimator=pipeline,\n",
        "                    evaluator=BinaryClassificationEvaluator(),\n",
        "                    estimatorParamMaps=paramGrid,\n",
        "                    numFolds=2)\n",
        "model = cv.fit(train)                                                                                               "
      ],
      "metadata": {
        "id": "Tp7v6SaF3KtJ"
      },
      "execution_count": null,
      "outputs": []
    },
    {
      "cell_type": "code",
      "source": [
        "%%time\n",
        "newPrediction = model.transform(test)\n",
        "newPredicted = prediction.select(\"features\", \"prediction\", \"trueLabel\")\n",
        "newPredicted.show()"
      ],
      "metadata": {
        "colab": {
          "base_uri": "https://localhost:8080/"
        },
        "id": "kQ7Lb4N93KwH",
        "outputId": "59d7e103-f708-401c-94c7-9ef15aafcd6d"
      },
      "execution_count": null,
      "outputs": [
        {
          "output_type": "stream",
          "name": "stdout",
          "text": [
            "+--------------------+----------+---------+\n",
            "|            features|prediction|trueLabel|\n",
            "+--------------------+----------+---------+\n",
            "|[10.0,1.0,0.0,103...|       0.0|        0|\n",
            "|[10.0,1.0,0.0,104...|       0.0|        0|\n",
            "|[10.0,1.0,0.0,104...|       0.0|        0|\n",
            "|[10.0,1.0,0.0,104...|       0.0|        0|\n",
            "|[10.0,1.0,0.0,104...|       0.0|        0|\n",
            "|[10.0,1.0,0.0,105...|       0.0|        0|\n",
            "|[10.0,1.0,0.0,105...|       0.0|        0|\n",
            "|[10.0,1.0,0.0,106...|       0.0|        0|\n",
            "|[10.0,1.0,0.0,107...|       0.0|        0|\n",
            "|[10.0,1.0,0.0,107...|       0.0|        0|\n",
            "|[10.0,1.0,0.0,107...|       0.0|        0|\n",
            "|[10.0,1.0,0.0,107...|       0.0|        1|\n",
            "|[10.0,1.0,0.0,107...|       0.0|        1|\n",
            "|[10.0,1.0,0.0,108...|       0.0|        1|\n",
            "|[10.0,1.0,0.0,108...|       0.0|        0|\n",
            "|[10.0,1.0,0.0,108...|       0.0|        1|\n",
            "|[10.0,1.0,0.0,108...|       0.0|        0|\n",
            "|[10.0,1.0,0.0,108...|       0.0|        0|\n",
            "|[10.0,1.0,0.0,108...|       0.0|        1|\n",
            "|[10.0,1.0,0.0,108...|       0.0|        0|\n",
            "+--------------------+----------+---------+\n",
            "only showing top 20 rows\n",
            "\n",
            "CPU times: user 72.9 ms, sys: 11.9 ms, total: 84.8 ms\n",
            "Wall time: 8.04 s\n"
          ]
        }
      ]
    },
    {
      "cell_type": "code",
      "source": [
        "# Recalculate confusion matrix\n",
        "tp2 = float(newPrediction.filter(\"prediction == 1.0 AND truelabel == 1\").count())\n",
        "fp2 = float(newPrediction.filter(\"prediction == 1.0 AND truelabel == 0\").count())\n",
        "tn2 = float(newPrediction.filter(\"prediction == 0.0 AND truelabel == 0\").count())\n",
        "fn2 = float(newPrediction.filter(\"prediction == 0.0 AND truelabel == 1\").count())\n",
        "pr2 = tp2 / (tp2 + fp2)\n",
        "re2 = tp2 / (tp2 + fn2)\n",
        "metrics2 = spark.createDataFrame([\n",
        " (\"TP\", tp2),\n",
        " (\"FP\", fp2),\n",
        " (\"TN\", tn2),\n",
        " (\"FN\", fn2),\n",
        " (\"Precision\", pr2),\n",
        " (\"Recall\", re2),\n",
        " (\"F1\", 2*pr2*re2/(re2+pr2))],[\"metric\", \"value\"])\n",
        "metrics2.show()"
      ],
      "metadata": {
        "colab": {
          "base_uri": "https://localhost:8080/"
        },
        "id": "6zoi6pB13KzP",
        "outputId": "37f25f5b-978e-40c3-8b1e-aeddfbba5164"
      },
      "execution_count": null,
      "outputs": [
        {
          "output_type": "stream",
          "name": "stdout",
          "text": [
            "+---------+------------------+\n",
            "|   metric|             value|\n",
            "+---------+------------------+\n",
            "|       TP|           61313.0|\n",
            "|       FP|             236.0|\n",
            "|       TN|          649454.0|\n",
            "|       FN|          100298.0|\n",
            "|Precision|0.9961656566313019|\n",
            "|   Recall|0.3793863041500888|\n",
            "|       F1|0.5494981179422835|\n",
            "+---------+------------------+\n",
            "\n"
          ]
        }
      ]
    },
    {
      "cell_type": "code",
      "source": [
        "# Recalculate the Area Under ROC\n",
        "evaluator2 = BinaryClassificationEvaluator(labelCol=\"trueLabel\", rawPredictionCol=\"prediction\", metricName=\"areaUnderROC\")\n",
        "aur2 = evaluator.evaluate(prediction)\n",
        "print( \"AUR2 = \", aur2)"
      ],
      "metadata": {
        "colab": {
          "base_uri": "https://localhost:8080/"
        },
        "id": "VLtHEwvI3K2t",
        "outputId": "675f9df8-5e65-43ae-bf43-11c390a00ca0"
      },
      "execution_count": null,
      "outputs": [
        {
          "output_type": "stream",
          "name": "stdout",
          "text": [
            "AUR2 =  0.9228129212062658\n"
          ]
        }
      ]
    },
    {
      "cell_type": "code",
      "source": [],
      "metadata": {
        "id": "7mA2szhyTsIX"
      },
      "execution_count": null,
      "outputs": []
    }
  ]
}